{
 "cells": [
  {
   "cell_type": "code",
   "execution_count": null,
   "metadata": {
    "collapsed": false
   },
   "outputs": [],
   "source": [
    "import numpy as np\n",
    "from scipy import *\n",
    "import sys, os\n",
    "from halotools import sim_manager\n",
    "import h5py\n",
    "import WLanalysis"
   ]
  },
  {
   "cell_type": "code",
   "execution_count": null,
   "metadata": {
    "collapsed": true
   },
   "outputs": [],
   "source": [
    "######### parameters\n",
    "\n",
    "RMpc = 2.0 ## Mpc smoothing\n",
    "Lbox = 512.0 #Mpc/h\n",
    "Lgrid = 256.0 ## the grid used for computing power spectrum\n",
    "ibins=arange(Lgrid)\n",
    "nn=(Lbox/Lgrid)**2\n",
    "dataset_name='Subsample'"
   ]
  },
  {
   "cell_type": "code",
   "execution_count": null,
   "metadata": {
    "collapsed": true
   },
   "outputs": [],
   "source": [
    "######### subsampled file\n",
    "subsample_fn = '/Users/jia/neutrino-batch/sample_maps/mnv0.10000_om0.30000_As2.1000/snapshot_066_idmod_101_0.hdf5'\n",
    "f=h5py.File(subsample_fn,'r')\n",
    "dataset = f[dataset_name]\n",
    "particle_pos = dataset['Position']/1e3"
   ]
  },
  {
   "cell_type": "code",
   "execution_count": null,
   "metadata": {
    "collapsed": true
   },
   "outputs": [],
   "source": [
    "############ my previous unsmoothed code\n",
    "nudir='/Users/jia/Documents/weaklensing/nubias/'\n",
    "k512,pk512=load(nudir+'kpk_512grid.npy')\n",
    "k128,pk128=load(nudir+'kpk_128grid.npy')\n",
    "k256,pk256=load(nudir+'kpk_256grid.npy')\n",
    "\n",
    "########### full gadget output\n",
    "kful,pkful=genfromtxt('/Users/jia/neutrino-batch/matterpower/mnv0.10000_om0.30000_As2.1000/powerspec_tot_066.txt').T\n",
    "knu,pknu=genfromtxt('/Users/jia/neutrino-batch/matterpower/mnv0.10000_om0.30000_As2.1000/powerspec_nu_066.txt').T\n",
    "fnu=0.1/93.14/0.3/.7**2\n",
    "pkdm=(sqrt(pkful)-fnu*sqrt(pknu))**2/(1-fnu)**2\n",
    "\n",
    "########### Marcel's code\n",
    "ks, pks, Ns = genfromtxt(nudir+'Pk_snapshot_066_idmod_101_0.hdf5_Ng512.txt').T"
   ]
  },
  {
   "cell_type": "code",
   "execution_count": null,
   "metadata": {
    "collapsed": true
   },
   "outputs": [],
   "source": [
    "def gridding (pos):\n",
    "    grid = histogramdd(pos/Lbox*Lgrid,bins=[ibins,ibins,ibins])[0]\n",
    "    grid = grid/mean(grid) - 1.0\n",
    "    return grid\n",
    "\n",
    "def ps (pos):\n",
    "    grid = gridding(pos)\n",
    "    k, ps3d = WLanalysis.PowerSpectrum3D(grid)\n",
    "    return 2*pi*k/Lbox, ps3d/(Lbox/nn)**3"
   ]
  },
  {
   "cell_type": "code",
   "execution_count": null,
   "metadata": {
    "collapsed": false
   },
   "outputs": [],
   "source": [
    "ktest, pstest = ps(particle_pos)"
   ]
  },
  {
   "cell_type": "code",
   "execution_count": null,
   "metadata": {
    "collapsed": false
   },
   "outputs": [],
   "source": [
    "igrid = gridding(particle_pos)"
   ]
  },
  {
   "cell_type": "code",
   "execution_count": null,
   "metadata": {
    "collapsed": false
   },
   "outputs": [],
   "source": [
    "#Rpix=RMpc*Lgrid/Lbox\n",
    "f=figure(figsize=(6,8))\n",
    "ax=f.add_subplot(211)\n",
    "ax2=f.add_subplot(212)\n",
    "    \n",
    "seed(4)\n",
    "for iRMpc in arange(1,5): \n",
    "    ik = 1.0/iRMpc\n",
    "    icolor=rand(3)\n",
    "    ifreq = arange(Lgrid/2)*2*pi/Lbox\n",
    "    WR = exp(-(ifreq*iRMpc)**2/2.0)\n",
    "    ax.plot(ifreq,WR,color=icolor,label='Gaussian R=%i Mpc/h'%(iRMpc))\n",
    "    ax.plot([ik,ik],[0,1],'--',color=icolor)\n",
    "seed(4)\n",
    "for isteep in (2,5,10):\n",
    "    icolor=rand(3)\n",
    "    WR = 1-1.0/(1.0+exp(-isteep*log(ifreq)))\n",
    "    ax2.plot(ifreq,WR,color=icolor,label='Logistic steepness=%i'%(isteep))\n",
    "    #ax2.plot([0.5,0.5],[0,1],'--',color=icolor)\n",
    "    \n",
    "#ax.set_xlabel('k (h/Mpc)')\n",
    "ax.legend(loc=0,fontsize=10,frameon=0)\n",
    "ax.set_ylabel('WR(k)')\n",
    "ax.set_xscale('log')\n",
    "ax.set_title('Fig.1(2/21/2017) test filter\\n Gaussian smoothing')\n",
    "ax2.set_xlabel('k (h/Mpc)')\n",
    "ax2.legend(loc=0,fontsize=10,frameon=0)\n",
    "ax2.set_ylabel('WR(k)')\n",
    "ax2.set_xscale('log')\n",
    "ax2.set_title('Logistic function')\n",
    "show()"
   ]
  },
  {
   "cell_type": "code",
   "execution_count": null,
   "metadata": {
    "collapsed": true
   },
   "outputs": [],
   "source": [
    "def smoothing (grid, isteep=10.0, kcut=1.0):\n",
    "    kmax=2.0*pi/Lbox*Lgrid/2.0\n",
    "    grid_fft = fftshift(fftpack.fftn(grid))\n",
    "    z, y, x = np.indices(grid.shape)\n",
    "    icenter=(x.max()-x.min())/2.0\n",
    "    center = np.array([icenter, icenter, icenter])\n",
    "    if grid.shape[0]%2 == 0:\n",
    "        center+=0.5\n",
    "    #d = Lbox/Lgrid\n",
    "    freq_cube = sqrt((x - center[0])**2 + (y - center[1])**2 + (z - center[2])**2)\n",
    "    freq_cube *= 2*pi/Lbox ### since k = k_machine /(d*N), N=Lgrid d=Lbox/Lgrid, d*N=Lbox\n",
    "    WR = 1-1.0/(1.0+exp(-isteep*log(freq_cube/kcut)))\n",
    "    WR[freq_cube>=kmax]=0.0 ### cut off at kmax\n",
    "    #WR = exp(-(2*pi*freq_cube*Rpix)**2/2.0)\n",
    "    grid_fft *= WR\n",
    "    return ifftn(ifftshift(grid_fft*WR))"
   ]
  },
  {
   "cell_type": "code",
   "execution_count": null,
   "metadata": {
    "collapsed": true
   },
   "outputs": [],
   "source": [
    "igrid_smooth01 = smoothing(igrid, kcut=0.1)\n",
    "igrid_smooth1 = smoothing(igrid, kcut=1.0)"
   ]
  },
  {
   "cell_type": "code",
   "execution_count": null,
   "metadata": {
    "collapsed": true
   },
   "outputs": [],
   "source": [
    "igrid_testfft = ifftn(fftn(igrid))"
   ]
  },
  {
   "cell_type": "code",
   "execution_count": null,
   "metadata": {
    "collapsed": false
   },
   "outputs": [],
   "source": [
    "f, ( (ax1, ax2), (ax3, ax4)) = plt.subplots(2, 2,figsize=(8,8))\n",
    "istd=std(igrid[100])\n",
    "\n",
    "cb1=ax1.imshow(igrid[100],vmax=istd, vmin=-istd)\n",
    "cb2=ax2.imshow(real(igrid_testfft[100]),vmax=istd, vmin=-istd)\n",
    "cb3=ax3.imshow(real(igrid_smooth1[100]),vmax=istd, vmin=-istd)\n",
    "cb4=ax4.imshow(real(igrid_smooth01[100]),vmax=istd, vmin=-istd)\n",
    "ax1.set_title('Fig.2(2/21) test smoothing\\n slice of the 512^3 grid\\n(1)original')\n",
    "ax2.set_title('(2)ifft(fft(grid))')\n",
    "ax3.set_title('(3)cut at k=1')\n",
    "ax4.set_title('(4)cut at k=0.1')\n",
    "show()"
   ]
  },
  {
   "cell_type": "code",
   "execution_count": null,
   "metadata": {
    "collapsed": false
   },
   "outputs": [],
   "source": [
    "f, ( (ax1, ax2), (ax3, ax4)) = plt.subplots(2, 2,figsize=(8,8))\n",
    "istd=std(mean(igrid,axis=0))*3\n",
    "\n",
    "cb1=ax1.imshow(mean(igrid,axis=0),vmax=istd, vmin=-istd)\n",
    "cb2=ax2.imshow(mean(real(igrid_testfft),axis=0),vmax=istd, vmin=-istd)\n",
    "cb3=ax3.imshow(mean(real(igrid_smooth1),axis=0),vmax=istd, vmin=-istd)\n",
    "cb4=ax4.imshow(mean(real(igrid_smooth01),axis=0),vmax=istd, vmin=-istd)\n",
    "\n",
    "ax1.set_title('Fig.3(2/21) test smoothing\\n projected grid\\n(1)original')\n",
    "ax2.set_title('(2)ifft(fft(grid))')\n",
    "ax3.set_title('(3)cut at k=1')\n",
    "ax4.set_title('(4)cut at k=0.1')\n",
    "show()"
   ]
  },
  {
   "cell_type": "code",
   "execution_count": null,
   "metadata": {
    "collapsed": false
   },
   "outputs": [],
   "source": [
    "ps_smooth1 = WLanalysis.PowerSpectrum3D(real(igrid_smooth1))#/(Lbox/nn)**3\n",
    "ps_smooth01 = WLanalysis.PowerSpectrum3D(real(igrid_smooth01))#/(Lbox/nn)**3"
   ]
  },
  {
   "cell_type": "code",
   "execution_count": null,
   "metadata": {
    "collapsed": false
   },
   "outputs": [],
   "source": [
    "pss1 = ps_smooth1[1] / (Lbox/nn)**3\n",
    "pss01 = ps_smooth01[1] / (Lbox/nn)**3"
   ]
  },
  {
   "cell_type": "code",
   "execution_count": null,
   "metadata": {
    "collapsed": false
   },
   "outputs": [],
   "source": [
    "figure(figsize=(8,3))\n",
    "loglog(kful*1e3,pkdm/1e9,'-',lw=0.5, label='gadget all 1024^3 particles')\n",
    "loglog(ks,pks,'--', label='marcel code (512 grid)')\n",
    "loglog(k512,pk512, label='jia code (512 grid)')\n",
    "loglog(k256,pk256, label='jia code (256 grid)')\n",
    "loglog(k256,pss1, label='kmax=1')\n",
    "loglog(k256,pss01, label='kmax=0.1')\n",
    "\n",
    "#loglog(k128,pk128, label='jia code (128 grid)')\n",
    "#loglog(ktest,pstest, label='jia code (256 grid test)')\n",
    "legend(fontsize=10,frameon=0)\n",
    "title('Fig.4 (2/21/2017) Smoothed power spectra test')\n",
    "xlim(1e-2,30)\n",
    "ylim(5,1e5)\n",
    "xlabel('k (h/Mpc)')\n",
    "ylabel('P_dm (k)')\n",
    "show()"
   ]
  },
  {
   "cell_type": "code",
   "execution_count": null,
   "metadata": {
    "collapsed": false
   },
   "outputs": [],
   "source": [
    "######### test squeezed by spectrum, smoothed vs unsmoothed\n",
    "ik, ibs = WLanalysis.CrossPowerSpectrum3D(grid**2,grid)\n",
    "ik, ibss = WLanalysis.CrossPowerSpectrum3D(real(igrid_smooth01)**2,real(igrid_smooth01))"
   ]
  },
  {
   "cell_type": "code",
   "execution_count": null,
   "metadata": {
    "collapsed": true
   },
   "outputs": [],
   "source": []
  }
 ],
 "metadata": {
  "anaconda-cloud": {},
  "kernelspec": {
   "display_name": "Python [default]",
   "language": "python",
   "name": "python2"
  },
  "language_info": {
   "codemirror_mode": {
    "name": "ipython",
    "version": 2
   },
   "file_extension": ".py",
   "mimetype": "text/x-python",
   "name": "python",
   "nbconvert_exporter": "python",
   "pygments_lexer": "ipython2",
   "version": "2.7.12"
  }
 },
 "nbformat": 4,
 "nbformat_minor": 1
}
