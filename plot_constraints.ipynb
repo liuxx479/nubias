{
 "cells": [
  {
   "cell_type": "code",
   "execution_count": 15,
   "metadata": {
    "collapsed": true
   },
   "outputs": [],
   "source": [
    "import numpy as np\n",
    "from scipy import *\n",
    "import sys, os\n",
    "import pickle"
   ]
  },
  {
   "cell_type": "code",
   "execution_count": 75,
   "metadata": {
    "collapsed": true
   },
   "outputs": [],
   "source": [
    "from matplotlib.patches import Ellipse\n",
    "def plotEllipse(pos,P,edge,ls,ilabel,ax):\n",
    "    '''plot the contour for covariance p\n",
    "    where position is the center position\n",
    "    p is the covariance [2,2] matirx'''\n",
    "    U, s, Vh = svd(P) \n",
    "    orient = math.atan2(U[1,0],U[0,0])*180/pi\n",
    "    ellipsePlot = Ellipse(xy=pos, width=2.0*math.sqrt(s[0]), \n",
    "                          height=2.0*math.sqrt(s[1]), angle=orient,edgecolor=edge, fill = 0, label=ilabel,ls=ls,linewidth=1.5)\n",
    "    ax.add_patch(ellipsePlot)\n",
    "    return ellipsePlot\n",
    "\n",
    "def Fisher(covI, der):\n",
    "    '''\n",
    "    Input: \n",
    "    covariance inverse matrix (Nbin, Nbin)\n",
    "    derivatives (Nparams, Nbin), where Nparams is the number of parameters \n",
    "    skyscaling = area_sims / area_actual_survey = 12.25/2e4 for our sim and LSST\n",
    "    Return the Fisher matrix\n",
    "    '''\n",
    "    Nparams, Nbin = der.shape\n",
    "    F = zeros( shape= (Nparams, Nparams))\n",
    "    for i in range(Nparams):\n",
    "        for j in range(Nparams):\n",
    "            dA, dB = der[i], der[j]\n",
    "            Mij = mat(dA).T*mat(dB) + mat(dB).T*mat(dA)  \n",
    "            F [i,j]= 0.5*trace(covI*Mij)\n",
    "    Ferr = real(sqrt(mat(F).I)) [range(Nparams), range(Nparams)]\n",
    "    return F, Ferr"
   ]
  },
  {
   "cell_type": "code",
   "execution_count": 56,
   "metadata": {
    "collapsed": false
   },
   "outputs": [],
   "source": [
    "labels=['Pm','Bm', \n",
    "        'Ph Mh=[12, 12.5]', 'Bh Mh=[12, 12.5]', \n",
    "        'Ph Mh=[12.5, 13]', 'Bh Mh=[12.5, 13]', \n",
    "        'Ph Mh=[13, 16]', 'Bh Mh=[13, 16]']"
   ]
  },
  {
   "cell_type": "code",
   "execution_count": 78,
   "metadata": {
    "collapsed": false
   },
   "outputs": [
    {
     "name": "stdout",
     "output_type": "stream",
     "text": [
      "(101,) (101, 7) (101, 9, 42)\n"
     ]
    }
   ],
   "source": [
    "params = loadtxt('cosmological_parameters_b1.txt')\n",
    "mnv, om, As, si8, b1a, b1b, b1c = params.T\n",
    "\n",
    "nsnaps_arr = loadtxt('nsnap_jia.txt')\n",
    "nsnaps_arr = delete(nsnaps_arr,39)\n",
    "\n",
    "Phhz0 = array([load('Ph2h/Ph2h_mnv%.5f_om%.5f_As%.4f_%03d.npy'\n",
    "                    %(mnv[i],om[i],As[i],nsnaps_arr[i]-1)) for i in range(101)])\n",
    "idxok=where(~isnan(covs[0]))[0]\n",
    "Phhz0 = Phhz0[:,:,idxok]\n",
    "Nok = len(idxok)\n",
    "\n",
    "print nsnaps_arr.shape, params.shape, Phhz0.shape"
   ]
  },
  {
   "cell_type": "code",
   "execution_count": 79,
   "metadata": {
    "collapsed": false
   },
   "outputs": [],
   "source": [
    "fn_cov = 'cov/Ph2h_mnv0.00000_om0.30000_As2.1000_065.npy.cov.pickle'\n",
    "cov_arr = pickle.load(open(fn_cov, \"rb\"))['diagcov']\n",
    "\n",
    "covs = [cov_arr[Px][idxok] for Px in labels]\n",
    "covIs = []\n",
    "for icov in covs:\n",
    "    icov2d = zeros((Nok,Nok))\n",
    "    icov2d[diag_indices(Nok)] = icov\n",
    "    covIs.append(mat(icov2d).I)\n",
    "    \n",
    "# covPm, covBm = cov_arr['Pm'], cov_arr['Bm']\n",
    "# covPh1, covBh1 = cov_arr['Ph Mh=[12, 12.5]'], cov_arr['Bh Mh=[12, 12.5]']\n",
    "# covPh2, covBh2 = cov_arr['Ph Mh=[12.5, 13]'], cov_arr['Bh Mh=[12.5, 13]']\n",
    "# covPh3, covBh3 = cov_arr['Ph Mh=[13, 16]'], cov_arr['Bh Mh=[13, 16]']"
   ]
  },
  {
   "cell_type": "code",
   "execution_count": null,
   "metadata": {
    "collapsed": true
   },
   "outputs": [],
   "source": []
  }
 ],
 "metadata": {
  "anaconda-cloud": {},
  "kernelspec": {
   "display_name": "Python [default]",
   "language": "python",
   "name": "python2"
  },
  "language_info": {
   "codemirror_mode": {
    "name": "ipython",
    "version": 2
   },
   "file_extension": ".py",
   "mimetype": "text/x-python",
   "name": "python",
   "nbconvert_exporter": "python",
   "pygments_lexer": "ipython2",
   "version": "2.7.12"
  }
 },
 "nbformat": 4,
 "nbformat_minor": 1
}
